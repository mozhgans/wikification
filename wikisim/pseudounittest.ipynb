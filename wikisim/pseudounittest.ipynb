{
 "cells": [
  {
   "cell_type": "markdown",
   "metadata": {},
   "source": [
    "# Some Tests\n"
   ]
  },
  {
   "cell_type": "markdown",
   "metadata": {},
   "source": [
    "# Modify Pagerank Compare correlations\n",
    "## Compare correlations"
   ]
  },
  {
   "cell_type": "code",
   "execution_count": null,
   "metadata": {
    "collapsed": false
   },
   "outputs": [],
   "source": [
    "import calcsim\n",
    "import os\n",
    "direction=calcsim.DIR_OUT;\n",
    "method = 'rvspagerank'\n",
    "\n",
    "\n",
    "calcsim.initdirs(direction, method)\n",
    "resfilename =  os.path.join(calcsim.baseresdir, 'reslog.txt')\n",
    "\n",
    "dsfiles=('MC_28-edited.csv', 'MiniMayoSRS-edited.csv', \n",
    "         )\n",
    "dsfiles=('MiniMayoSRS-edited.csv', \n",
    "         )"
   ]
  },
  {
   "cell_type": "markdown",
   "metadata": {},
   "source": [
    "## Compare embeddings"
   ]
  },
  {
   "cell_type": "code",
   "execution_count": 2,
   "metadata": {
    "collapsed": false
   },
   "outputs": [
    {
     "name": "stdout",
     "output_type": "stream",
     "text": [
      "('Processing', 'MiniMayoSRS-edited.csv')\n",
      "Passed\n"
     ]
    }
   ],
   "source": [
    "import numpy as np\n",
    "passed=True\n",
    "for dsname in dsfiles:\n",
    "    dsbase, dsext = os.path.splitext(dsname);\n",
    "    infilename = os.path.join(calcsim.dsdir, dsname)\n",
    "    outfilename = os.path.join(calcsim.resdir(method, direction), dsbase+ '.out'+ dsext)\n",
    "    calcsim.printflush (\"Processing\",dsname)\n",
    "\n",
    "    dsdata=calcsim.readds(infilename, usecols=[0]);\n",
    "    for row in dsdata.itertuples():        \n",
    "        wid = calcsim.encode_entity(row[1], method, get_id=True)\n",
    "        if wid is None:\n",
    "            continue\n",
    "\n",
    "        calcsim.disable_cache()\n",
    "        em1=calcsim.conceptrep(wid, method='rvspagerank', direction = direction, \n",
    "                      get_titles = False, cutoff=None)\n",
    "        calcsim.enable_cache()\n",
    "        em2=calcsim.conceptrep(wid, method='rvspagerank', direction = direction, \n",
    "                      get_titles = False, cutoff=None)\n",
    "        almosteq= all(np.isclose(em1,em2, rtol=1e-10, atol=0, equal_nan=True))\n",
    "        if not almosteq:\n",
    "            print em1[:5]\n",
    "            print em2[:5]\n",
    "            passed=False\n",
    "            break\n",
    "    if not passed:\n",
    "        print \"Failed\"\n",
    "        break\n",
    "\n",
    "if  passed:\n",
    "    print \"Passed\""
   ]
  },
  {
   "cell_type": "code",
   "execution_count": null,
   "metadata": {
    "collapsed": false
   },
   "outputs": [],
   "source": [
    "passed=True\n",
    "for dsname in dsfiles:\n",
    "    dsbase, dsext = os.path.splitext(dsname);\n",
    "    infilename = os.path.join(calcsim.dsdir, dsname)\n",
    "    outfilename = os.path.join(calcsim.resdir(method, direction), dsbase+ '.out'+ dsext)\n",
    "    calcsim.printflush (\"Processing\",dsname)\n",
    "    calcsim.enable_cache()\n",
    "    _ , corr1 = calcsim.getsim_file(infilename, outfilename, method, direction);\n",
    "    calcsim.disable_cache()\n",
    "    _ , corr2 = calcsim.getsim_file(infilename, outfilename, method, direction);\n",
    "    if not corr1.correlation == corr2.correlation:\n",
    "        print corr1.correlation, corr2.correlation\n",
    "        passed=False\n",
    "        print \"Failed\"\n",
    "        break\n",
    "if passed:\n",
    "    print \"Passed\""
   ]
  }
 ],
 "metadata": {
  "kernelspec": {
   "display_name": "Python 2",
   "language": "python",
   "name": "python2"
  },
  "language_info": {
   "codemirror_mode": {
    "name": "ipython",
    "version": 2
   },
   "file_extension": ".py",
   "mimetype": "text/x-python",
   "name": "python",
   "nbconvert_exporter": "python",
   "pygments_lexer": "ipython2",
   "version": "2.7.12"
  }
 },
 "nbformat": 4,
 "nbformat_minor": 0
}
