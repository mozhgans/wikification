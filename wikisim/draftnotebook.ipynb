{
 "cells": [
  {
   "cell_type": "code",
   "execution_count": null,
   "metadata": {},
   "outputs": [],
   "source": []
  },
  {
   "cell_type": "code",
   "execution_count": null,
   "metadata": {},
   "outputs": [],
   "source": [
    "conceptrep(title2id('Tehran'), method='rvspagerank', direction=1, get_titles=True, cutoff=20)"
   ]
  },
  {
   "cell_type": "code",
   "execution_count": null,
   "metadata": {},
   "outputs": [],
   "source": [
    "em=concept_embedding(title2id('Tehran'), 1);    \n",
    "em = em.sort_values(ascending=False)\n",
    "em = em[:10]\n",
    "# if get_titles:\n",
    "#     em = pd.Series(zip(ids2title(em.index), em.values.tolist()), index=em.index)\n"
   ]
  },
  {
   "cell_type": "code",
   "execution_count": 2,
   "metadata": {},
   "outputs": [
    {
     "name": "stdout",
     "output_type": "stream",
     "text": [
      "calcsim.py           embedding.pyc  pagerank.pyc          utils.pyc\r\n",
      "calcsim.pyc          embeval.py     preembed.py           \u001b[0m\u001b[01;32mwikipedia.py\u001b[0m*\r\n",
      "config.py            __init__.py    pseudounittest.ipynb  wikipedia.pyc\r\n",
      "config.pyc           __init__.pyc   rvseval.py            wikisimeval.ipynb\r\n",
      "draftnotebook.ipynb  kalam.pyc      shalam.pyc            wikisim.ipynb\r\n",
      "embedding.py         pagerank.py    utils.py              wsdcoherence.py\r\n",
      "\u001b[m"
     ]
    }
   ],
   "source": [
    "ls"
   ]
  },
  {
   "cell_type": "code",
   "execution_count": null,
   "metadata": {},
   "outputs": [],
   "source": [
    "list(em.index)"
   ]
  },
  {
   "cell_type": "code",
   "execution_count": null,
   "metadata": {},
   "outputs": [],
   "source": []
  }
 ],
 "metadata": {
  "anaconda-cloud": {},
  "kernelspec": {
   "display_name": "Python 2",
   "language": "python",
   "name": "python2"
  },
  "language_info": {
   "codemirror_mode": {
    "name": "ipython",
    "version": 2
   },
   "file_extension": ".py",
   "mimetype": "text/x-python",
   "name": "python",
   "nbconvert_exporter": "python",
   "pygments_lexer": "ipython2",
   "version": "2.7.14"
  }
 },
 "nbformat": 4,
 "nbformat_minor": 1
}
