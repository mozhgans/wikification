{
 "cells": [
  {
   "cell_type": "markdown",
   "metadata": {},
   "source": [
    "# Generate Clean Text"
   ]
  },
  {
   "cell_type": "code",
   "execution_count": null,
   "metadata": {
    "collapsed": false
   },
   "outputs": [],
   "source": [
    "%%writefile cleantext.py\n",
    "import json\n",
    "with open('/users/grad/sajadi/backup/wikipedia/20160305/texts/enwiki-20160305-annonated.json') as infile , open('/users/grad/sajadi/backup/wikipedia/20160305/texts/enwiki-20160305-cleantext.json', 'w') as outfile:\n",
    "    for line in infile.readlines(): \n",
    "        doc = json.loads(line)\n",
    "        outfile.write(doc['title'].encode('utf-8')+'\\n')\n",
    "        outfile.write(doc['text'].encode('utf-8')+'\\n\\n')\n",
    "        #out.write(line)\n",
    "print \"done\"    "
   ]
  },
  {
   "cell_type": "markdown",
   "metadata": {},
   "source": [
    "# Generate Clean Text with surface replaced with ID"
   ]
  },
  {
   "cell_type": "code",
   "execution_count": 8,
   "metadata": {
    "collapsed": false
   },
   "outputs": [
    {
     "name": "stdout",
     "output_type": "stream",
     "text": [
      "Overwriting replace_surface.py\n"
     ]
    }
   ],
   "source": [
    "%%writefile replace_surface.py\n",
    "import re\n",
    "import sys\n",
    "import urllib\n",
    "import sys\n",
    "from HTMLParser import HTMLParser\n",
    "import time\n",
    "\n",
    "sys.path.insert(0,'..')\n",
    "from memapi import memwiki as wiki\n",
    "\n",
    "fileinput = sys.stdin\n",
    "skip_line = 1; #LINE 0 is the title\n",
    "\n",
    "def title2id(title):\n",
    "    if not title:\n",
    "        return \"NA1\"\n",
    "    wid = wiki.title2id(title)\n",
    "    if wid is None:\n",
    "        title=title[0].upper()+title[1:]    \n",
    "        wid = wiki.title2id(title)\n",
    "    if wid is None:\n",
    "        return \"NA2\"\n",
    "    return str(wid)\n",
    "    \n",
    "\n",
    "def url2id(antext, url):\n",
    "    hp = HTMLParser()\n",
    "    \n",
    "    url=url.encode('utf-8')\n",
    "    url =  urllib.unquote(url)\n",
    "    url = url.decode('utf-8')\n",
    "\n",
    "    url=hp.unescape(url)\n",
    "    url=hp.unescape(url)\n",
    "    url=url.replace(u\"\\xA0\",\" \")\n",
    "    x = url.find(\"#\")\n",
    "    if x!=-1:\n",
    "        url=url[:x]\n",
    "    return \"id_\"+title2id(url)\n",
    "    \n",
    "    \n",
    "def replacelinks(text):\n",
    "    \n",
    "    annotations = []\n",
    "    deltaStringLength = 0\n",
    "    hrefreg=r'<a href=\"([^\"]+)\">([^>]+)</a>'\n",
    "    \n",
    "    text = re.sub(hrefreg, lambda m:url2id(m.group(2), m.group(1)), text)  \n",
    "    return text\n",
    "\n",
    "\n",
    "def process():\n",
    "    line_no = -1    \n",
    "    hp = HTMLParser()\n",
    "    rstart=r'<doc id=\"(.*)\" url=\"(.*)\" title=\"(.*)\">'\n",
    "    rend=r'</doc>'\n",
    "    for line in fileinput.readlines():\n",
    "        line = line.decode('utf-8').strip()\n",
    "        if not line:\n",
    "            continue\n",
    "            \n",
    "        ms = re.match(rstart, line)\n",
    "        if ms is not None:\n",
    "            wid=ms.group(1)\n",
    "            wtitle=hp.unescape(ms.group(3)).replace(u\"\\xA0\",\" \")\n",
    "            line_no=0\n",
    "            #print 'id_'+title2id(wtitle)\n",
    "            continue\n",
    "        if line_no == skip_line:\n",
    "            print \"\"\n",
    "            line_no +=1\n",
    "            continue\n",
    "\n",
    "        if re.match(rend,line):\n",
    "            line_no=-1\n",
    "            print \"\\n\"\n",
    "            continue    \n",
    "\n",
    "        text = replacelinks(line).encode('utf-8')\n",
    "        print text\n",
    "        line_no += 1\n",
    "        continue\n",
    "    \n",
    "if __name__ == \"__main__\": \n",
    "    #startTime = time.time()\n",
    "    wiki.load_tables()\n",
    "    #print 'wiki loaded to memory'    \n",
    "    #print time.time()-startTime\n",
    "    #sys.stdout.flush()\n",
    "    process()"
   ]
  },
  {
   "cell_type": "markdown",
   "metadata": {},
   "source": [
    "# Usage \n",
    "time cat ~/backup/wikipedia/20160305/texts/xmltexts/wiki_* | python replace_surface.py > ~/backup/wikipedia/20160305/texts/enwiki-20160305-replace_surface.json"
   ]
  },
  {
   "cell_type": "markdown",
   "metadata": {},
   "source": [
    "# Training"
   ]
  },
  {
   "cell_type": "code",
   "execution_count": 2,
   "metadata": {
    "collapsed": false
   },
   "outputs": [
    {
     "name": "stdout",
     "output_type": "stream",
     "text": [
      "Writing train4.py\n"
     ]
    }
   ],
   "source": [
    "%%writefile train4.py\n",
    "import sys\n",
    "import logging\n",
    "from gensim import *\n",
    "import json\n",
    "import os\n",
    "\n",
    "in_file = \"/users/grad/sajadi/backup/wikipedia/20160305/edited/enwiki-20160305-pagelinks.dumped.shuf.ssv\"\n",
    "#in_file = \"/users/grad/sajadi/backup/wikipedia/20160305/texts/enwiki-20160305-cleantext.txt\"\n",
    "#in_file = \"/users/grad/sajadi/backup/wikipedia/20160305/texts/enwiki-20160305-replace_surface.skip.1.txt\"\n",
    "#in_file = \"/users/grad/sajadi/backup/wikipedia/20160305/texts/enwiki-20160305-replace_surface.txt\"\n",
    "output_root = \"/users/grad/sajadi/backup/wikipedia/20160305/embed/\"\n",
    "\n",
    "params={\"in_file_path\": in_file,\n",
    "         \"phrasing\":0,\n",
    "         \"sg\":1, \"size\":500, \"window\":2, \"min_count\":5, \"workers\":20, \"negative\":0, \"iter\":15,\n",
    "         }\n",
    "baseinname=os.path.splitext(os.path.basename (params['in_file_path']))[0]\n",
    "params['params_desc'] = 'word2vec.%s.%s.%s.%s.%s.%s.%s.%s.%s' % (baseinname, params[\"sg\"], params['phrasing'],params[\"size\"], params[\"window\"],\n",
    "                        params[\"min_count\"], params[\"workers\"], params[\"negative\"],params[\"iter\"] )\n",
    "params[\"out_dir\"] = os.path.join(output_root, params['params_desc'])\n",
    "params[\"out_file\"] = os.path.join(params[\"out_dir\"], params['params_desc'])\n",
    "if not os.path.exists(params[\"out_dir\"]):\n",
    "        os.makedirs(params[\"out_dir\"])\n",
    "with open(os.path.join(params[\"out_dir\"], 'README.md'), 'w') as f:\n",
    "    f.write(json.dumps(params))\n",
    "####################################\n",
    "\n",
    "logging.basicConfig(filename='logging.log', format='%(asctime)s : %(levelname)s : %(message)s', level=logging.INFO)\n",
    "\n",
    "print \"loading\"   \n",
    "sys.stdout.flush()\n",
    "sentences = models.word2vec.LineSentence(params['in_file_path'])\n",
    "if params['phrasing']==1:\n",
    "    bigram_transformer = models.phrases.Phraser(models.Phrases(sentences))\n",
    "    sentence_stream = bigram_transformer[sentences]\n",
    "else:\n",
    "    sentence_stream = sentences\n",
    "print \"training\"    \n",
    "sys.stdout.flush()\n",
    "model = models.Word2Vec(sentence_stream, sg=params[\"sg\"], size=params[\"size\"], window=params[\"window\"],\n",
    "                        min_count=params[\"min_count\"], workers=params[\"workers\"], \n",
    "                        negative=params[\"negative\"], iter=params[\"iter\"])\n",
    "model.save(params[\"out_file\"])\n",
    "print \"done\"    \n",
    "sys.stdout.flush()\n"
   ]
  },
  {
   "cell_type": "code",
   "execution_count": null,
   "metadata": {
    "collapsed": true
   },
   "outputs": [],
   "source": []
  }
 ],
 "metadata": {
  "anaconda-cloud": {},
  "kernelspec": {
   "display_name": "Python [default]",
   "language": "python",
   "name": "python2"
  },
  "language_info": {
   "codemirror_mode": {
    "name": "ipython",
    "version": 2
   },
   "file_extension": ".py",
   "mimetype": "text/x-python",
   "name": "python",
   "nbconvert_exporter": "python",
   "pygments_lexer": "ipython2",
   "version": "2.7.13"
  }
 },
 "nbformat": 4,
 "nbformat_minor": 0
}
